{
  "nbformat": 4,
  "nbformat_minor": 0,
  "metadata": {
    "colab": {
      "name": "Task_2.ipynb",
      "provenance": [],
      "toc_visible": true,
      "authorship_tag": "ABX9TyM22/QPdFhttUhDWev2hw0V",
      "include_colab_link": true
    },
    "kernelspec": {
      "name": "python3",
      "display_name": "Python 3"
    },
    "language_info": {
      "name": "python"
    }
  },
  "cells": [
    {
      "cell_type": "markdown",
      "metadata": {
        "id": "view-in-github",
        "colab_type": "text"
      },
      "source": [
        "<a href=\"https://colab.research.google.com/github/Mr-Stark-18/SOC2k21-Project/blob/Python-Course/Task_2.ipynb\" target=\"_parent\"><img src=\"https://colab.research.google.com/assets/colab-badge.svg\" alt=\"Open In Colab\"/></a>"
      ]
    },
    {
      "cell_type": "markdown",
      "metadata": {
        "id": "OVAHSp0brywh"
      },
      "source": [
        "#Matplotlib Task"
      ]
    },
    {
      "cell_type": "code",
      "metadata": {
        "id": "38fy8MM8r6dh"
      },
      "source": [
        "import numpy as np\n",
        "import pandas as pd\n",
        "import matplotlib.pyplot as plt"
      ],
      "execution_count": 7,
      "outputs": []
    },
    {
      "cell_type": "code",
      "metadata": {
        "id": "VWWkMyoIshBA"
      },
      "source": [
        "data = pd.read_csv('/content/master.csv')\n",
        "df=pd.DataFrame(data)"
      ],
      "execution_count": 8,
      "outputs": []
    },
    {
      "cell_type": "code",
      "metadata": {
        "colab": {
          "base_uri": "https://localhost:8080/",
          "height": 413
        },
        "id": "gs4_Y6HGs4fg",
        "outputId": "1a6c5719-3223-4acb-a995-191aff4bba08"
      },
      "source": [
        "df.head()"
      ],
      "execution_count": 9,
      "outputs": [
        {
          "output_type": "execute_result",
          "data": {
            "text/html": [
              "<div>\n",
              "<style scoped>\n",
              "    .dataframe tbody tr th:only-of-type {\n",
              "        vertical-align: middle;\n",
              "    }\n",
              "\n",
              "    .dataframe tbody tr th {\n",
              "        vertical-align: top;\n",
              "    }\n",
              "\n",
              "    .dataframe thead th {\n",
              "        text-align: right;\n",
              "    }\n",
              "</style>\n",
              "<table border=\"1\" class=\"dataframe\">\n",
              "  <thead>\n",
              "    <tr style=\"text-align: right;\">\n",
              "      <th></th>\n",
              "      <th>country</th>\n",
              "      <th>year</th>\n",
              "      <th>sex</th>\n",
              "      <th>age</th>\n",
              "      <th>suicides_no</th>\n",
              "      <th>population</th>\n",
              "      <th>suicides/100k pop</th>\n",
              "      <th>country-year</th>\n",
              "      <th>HDI for year</th>\n",
              "      <th>gdp_for_year ($)</th>\n",
              "      <th>gdp_per_capita ($)</th>\n",
              "      <th>generation</th>\n",
              "    </tr>\n",
              "  </thead>\n",
              "  <tbody>\n",
              "    <tr>\n",
              "      <th>0</th>\n",
              "      <td>Albania</td>\n",
              "      <td>1987</td>\n",
              "      <td>male</td>\n",
              "      <td>15-24 years</td>\n",
              "      <td>21</td>\n",
              "      <td>312900</td>\n",
              "      <td>6.71</td>\n",
              "      <td>Albania1987</td>\n",
              "      <td>NaN</td>\n",
              "      <td>2,156,624,900</td>\n",
              "      <td>796</td>\n",
              "      <td>Generation X</td>\n",
              "    </tr>\n",
              "    <tr>\n",
              "      <th>1</th>\n",
              "      <td>Albania</td>\n",
              "      <td>1987</td>\n",
              "      <td>male</td>\n",
              "      <td>35-54 years</td>\n",
              "      <td>16</td>\n",
              "      <td>308000</td>\n",
              "      <td>5.19</td>\n",
              "      <td>Albania1987</td>\n",
              "      <td>NaN</td>\n",
              "      <td>2,156,624,900</td>\n",
              "      <td>796</td>\n",
              "      <td>Silent</td>\n",
              "    </tr>\n",
              "    <tr>\n",
              "      <th>2</th>\n",
              "      <td>Albania</td>\n",
              "      <td>1987</td>\n",
              "      <td>female</td>\n",
              "      <td>15-24 years</td>\n",
              "      <td>14</td>\n",
              "      <td>289700</td>\n",
              "      <td>4.83</td>\n",
              "      <td>Albania1987</td>\n",
              "      <td>NaN</td>\n",
              "      <td>2,156,624,900</td>\n",
              "      <td>796</td>\n",
              "      <td>Generation X</td>\n",
              "    </tr>\n",
              "    <tr>\n",
              "      <th>3</th>\n",
              "      <td>Albania</td>\n",
              "      <td>1987</td>\n",
              "      <td>male</td>\n",
              "      <td>75+ years</td>\n",
              "      <td>1</td>\n",
              "      <td>21800</td>\n",
              "      <td>4.59</td>\n",
              "      <td>Albania1987</td>\n",
              "      <td>NaN</td>\n",
              "      <td>2,156,624,900</td>\n",
              "      <td>796</td>\n",
              "      <td>G.I. Generation</td>\n",
              "    </tr>\n",
              "    <tr>\n",
              "      <th>4</th>\n",
              "      <td>Albania</td>\n",
              "      <td>1987</td>\n",
              "      <td>male</td>\n",
              "      <td>25-34 years</td>\n",
              "      <td>9</td>\n",
              "      <td>274300</td>\n",
              "      <td>3.28</td>\n",
              "      <td>Albania1987</td>\n",
              "      <td>NaN</td>\n",
              "      <td>2,156,624,900</td>\n",
              "      <td>796</td>\n",
              "      <td>Boomers</td>\n",
              "    </tr>\n",
              "  </tbody>\n",
              "</table>\n",
              "</div>"
            ],
            "text/plain": [
              "   country  year  ... gdp_per_capita ($)       generation\n",
              "0  Albania  1987  ...                796     Generation X\n",
              "1  Albania  1987  ...                796           Silent\n",
              "2  Albania  1987  ...                796     Generation X\n",
              "3  Albania  1987  ...                796  G.I. Generation\n",
              "4  Albania  1987  ...                796          Boomers\n",
              "\n",
              "[5 rows x 12 columns]"
            ]
          },
          "metadata": {
            "tags": []
          },
          "execution_count": 9
        }
      ]
    },
    {
      "cell_type": "code",
      "metadata": {
        "colab": {
          "base_uri": "https://localhost:8080/",
          "height": 297
        },
        "id": "aegVUshms6GO",
        "outputId": "a4a89035-3f6a-4b67-893a-d52410a4148e"
      },
      "source": [
        "plt.hist(df.columns)\n",
        "plt.tight_layout()\n",
        "plt.tight_layout()"
      ],
      "execution_count": 10,
      "outputs": [
        {
          "output_type": "display_data",
          "data": {
            "image/png": "[encoded data removed]",
            "text/plain": [
              "<Figure size 432x288 with 1 Axes>"
            ]
          },
          "metadata": {
            "tags": [],
            "needs_background": "light"
          }
        }
      ]
    },
    {
      "cell_type": "code",
      "metadata": {
        "colab": {
          "base_uri": "https://localhost:8080/"
        },
        "id": "g4Mg3Sl6tHPo",
        "outputId": "1ff9cf91-baba-4b9c-8c7c-f72e861f4d1c"
      },
      "source": [
        "df['country'].unique()\n",
        "\n",
        "  "
      ],
      "execution_count": 11,
      "outputs": [
        {
          "output_type": "execute_result",
          "data": {
            "text/plain": [
              "array(['Albania', 'Antigua and Barbuda', 'Argentina', 'Armenia', 'Aruba',\n",
              "       'Australia', 'Austria', 'Azerbaijan', 'Bahamas', 'Bahrain',\n",
              "       'Barbados', 'Belarus', 'Belgium', 'Belize',\n",
              "       'Bosnia and Herzegovina', 'Brazil', 'Bulgaria', 'Cabo Verde',\n",
              "       'Canada', 'Chile', 'Colombia', 'Costa Rica', 'Croatia', 'Cuba',\n",
              "       'Cyprus', 'Czech Republic', 'Denmark', 'Dominica', 'Ecuador',\n",
              "       'El Salvador', 'Estonia', 'Fiji', 'Finland', 'France', 'Georgia',\n",
              "       'Germany', 'Greece', 'Grenada', 'Guatemala', 'Guyana', 'Hungary',\n",
              "       'Iceland', 'Ireland', 'Israel', 'Italy', 'Jamaica', 'Japan',\n",
              "       'Kazakhstan', 'Kiribati', 'Kuwait', 'Kyrgyzstan', 'Latvia',\n",
              "       'Lithuania', 'Luxembourg', 'Macau', 'Maldives', 'Malta',\n",
              "       'Mauritius', 'Mexico', 'Mongolia', 'Montenegro', 'Netherlands',\n",
              "       'New Zealand', 'Nicaragua', 'Norway', 'Oman', 'Panama', 'Paraguay',\n",
              "       'Philippines', 'Poland', 'Portugal', 'Puerto Rico', 'Qatar',\n",
              "       'Republic of Korea', 'Romania', 'Russian Federation',\n",
              "       'Saint Kitts and Nevis', 'Saint Lucia',\n",
              "       'Saint Vincent and Grenadines', 'San Marino', 'Serbia',\n",
              "       'Seychelles', 'Singapore', 'Slovakia', 'Slovenia', 'South Africa',\n",
              "       'Spain', 'Sri Lanka', 'Suriname', 'Sweden', 'Switzerland',\n",
              "       'Thailand', 'Trinidad and Tobago', 'Turkey', 'Turkmenistan',\n",
              "       'Ukraine', 'United Arab Emirates', 'United Kingdom',\n",
              "       'United States', 'Uruguay', 'Uzbekistan'], dtype=object)"
            ]
          },
          "metadata": {
            "tags": []
          },
          "execution_count": 11
        }
      ]
    },
    {
      "cell_type": "code",
      "metadata": {
        "id": "owTIoxV6t8_X",
        "colab": {
          "base_uri": "https://localhost:8080/"
        },
        "outputId": "8c1c4e40-d613-4436-adb1-78cd28393fb5"
      },
      "source": [
        "j=0\n",
        "a=[]\n",
        "b=[]\n",
        "for i in df.columns:\n",
        "  if type(df[i][1])==np.int64:\n",
        "     a.append(df[i].nunique())\n",
        "     b.append(i)\n",
        "  j=j+1\n",
        "a\n"
      ],
      "execution_count": 70,
      "outputs": [
        {
          "output_type": "execute_result",
          "data": {
            "text/plain": [
              "[32, 2084, 25564, 2233]"
            ]
          },
          "metadata": {
            "tags": []
          },
          "execution_count": 70
        }
      ]
    },
    {
      "cell_type": "code",
      "metadata": {
        "colab": {
          "base_uri": "https://localhost:8080/"
        },
        "id": "4YT1pj0l7-dL",
        "outputId": "42d3d7b9-017a-4701-977e-c277270f56a3"
      },
      "source": [
        "len(df.columns)\n"
      ],
      "execution_count": 71,
      "outputs": [
        {
          "output_type": "execute_result",
          "data": {
            "text/plain": [
              "12"
            ]
          },
          "metadata": {
            "tags": []
          },
          "execution_count": 71
        }
      ]
    },
    {
      "cell_type": "code",
      "metadata": {
        "colab": {
          "base_uri": "https://localhost:8080/"
        },
        "id": "GHjOEzK49YNd",
        "outputId": "0f868505-e60f-4694-ed48-74922a744092"
      },
      "source": [
        "b"
      ],
      "execution_count": 72,
      "outputs": [
        {
          "output_type": "execute_result",
          "data": {
            "text/plain": [
              "['year', 'suicides_no', 'population', 'gdp_per_capita ($)']"
            ]
          },
          "metadata": {
            "tags": []
          },
          "execution_count": 72
        }
      ]
    },
    {
      "cell_type": "code",
      "metadata": {
        "colab": {
          "base_uri": "https://localhost:8080/",
          "height": 297
        },
        "id": "jQlTWeUm9ngc",
        "outputId": "0081e6c7-5a8f-4e52-ce8a-7d4b6ce2ecc6"
      },
      "source": [
        "#histogram for discrete variables\n",
        "plt.bar(b,a)\n",
        "plt.tight_layout()"
      ],
      "execution_count": 73,
      "outputs": [
        {
          "output_type": "display_data",
          "data": {
            "image/png": "[encoded data removed]",
            "text/plain": [
              "<Figure size 432x288 with 1 Axes>"
            ]
          },
          "metadata": {
            "tags": [],
            "needs_background": "light"
          }
        }
      ]
    },
    {
      "cell_type": "code",
      "metadata": {
        "colab": {
          "base_uri": "https://localhost:8080/"
        },
        "id": "VkOyBmsS_Py_",
        "outputId": "0c6933f5-8bde-4877-8525-6a71f13d4557"
      },
      "source": [
        "#mode value for discrete variables\n",
        "for i in df.columns:\n",
        "  if type(df[i][1])==np.int64: print(df[i].mode)\n",
        "    "
      ],
      "execution_count": 74,
      "outputs": [
        {
          "output_type": "stream",
          "text": [
            "<bound method Series.mode of 0        1987\n",
            "1        1987\n",
            "2        1987\n",
            "3        1987\n",
            "4        1987\n",
            "         ... \n",
            "27815    2014\n",
            "27816    2014\n",
            "27817    2014\n",
            "27818    2014\n",
            "27819    2014\n",
            "Name: year, Length: 27820, dtype: int64>\n",
            "<bound method Series.mode of 0         21\n",
            "1         16\n",
            "2         14\n",
            "3          1\n",
            "4          9\n",
            "        ... \n",
            "27815    107\n",
            "27816      9\n",
            "27817     60\n",
            "27818     44\n",
            "27819     21\n",
            "Name: suicides_no, Length: 27820, dtype: int64>\n",
            "<bound method Series.mode of 0         312900\n",
            "1         308000\n",
            "2         289700\n",
            "3          21800\n",
            "4         274300\n",
            "          ...   \n",
            "27815    3620833\n",
            "27816     348465\n",
            "27817    2762158\n",
            "27818    2631600\n",
            "27819    1438935\n",
            "Name: population, Length: 27820, dtype: int64>\n",
            "<bound method Series.mode of 0         796\n",
            "1         796\n",
            "2         796\n",
            "3         796\n",
            "4         796\n",
            "         ... \n",
            "27815    2309\n",
            "27816    2309\n",
            "27817    2309\n",
            "27818    2309\n",
            "27819    2309\n",
            "Name: gdp_per_capita ($), Length: 27820, dtype: int64>\n"
          ],
          "name": "stdout"
        }
      ]
    },
    {
      "cell_type": "code",
      "metadata": {
        "colab": {
          "base_uri": "https://localhost:8080/"
        },
        "id": "7Oxv8IVdCFei",
        "outputId": "9bab69d7-af7a-4025-ea03-e794e18ad010"
      },
      "source": [
        "for i in df.columns:\n",
        "  if type(df[i][1])==np.float64:\n",
        "    print(df[i].describe())"
      ],
      "execution_count": 75,
      "outputs": [
        {
          "output_type": "stream",
          "text": [
            "count    27820.000000\n",
            "mean        12.816097\n",
            "std         18.961511\n",
            "min          0.000000\n",
            "25%          0.920000\n",
            "50%          5.990000\n",
            "75%         16.620000\n",
            "max        224.970000\n",
            "Name: suicides/100k pop, dtype: float64\n",
            "count    8364.000000\n",
            "mean        0.776601\n",
            "std         0.093367\n",
            "min         0.483000\n",
            "25%         0.713000\n",
            "50%         0.779000\n",
            "75%         0.855000\n",
            "max         0.944000\n",
            "Name: HDI for year, dtype: float64\n"
          ],
          "name": "stdout"
        }
      ]
    },
    {
      "cell_type": "code",
      "metadata": {
        "colab": {
          "base_uri": "https://localhost:8080/"
        },
        "id": "HoHYC2XFGEjI",
        "outputId": "5cc3be6e-5446-42e9-a78e-9e62e330abe0"
      },
      "source": [
        "for i in df.columns:\n",
        "  if type(df[i][1])==np.float64:\n",
        "    q75, q25 = np.percentile(df[i], [75 ,25])\n",
        "    iqr = q75 - q25\n",
        "    print('The interquartile range of {} is {}'.format(i,iqr))\n",
        "\n",
        "\n"
      ],
      "execution_count": 78,
      "outputs": [
        {
          "output_type": "stream",
          "text": [
            "The interquartile range of suicides/100k pop is 15.700000000000001\n",
            "The interquartile range of HDI for year is nan\n"
          ],
          "name": "stdout"
        }
      ]
    },
    {
      "cell_type": "code",
      "metadata": {
        "colab": {
          "base_uri": "https://localhost:8080/"
        },
        "id": "neaawmqOCVaM",
        "outputId": "8cfed510-b3b7-4fe9-f695-cc7a97b06203"
      },
      "source": [
        "for i in df.columns:\n",
        "  print(type(df[i][1]))"
      ],
      "execution_count": 68,
      "outputs": [
        {
          "output_type": "stream",
          "text": [
            "<class 'str'>\n",
            "<class 'numpy.int64'>\n",
            "<class 'str'>\n",
            "<class 'str'>\n",
            "<class 'numpy.int64'>\n",
            "<class 'numpy.int64'>\n",
            "<class 'numpy.float64'>\n",
            "<class 'str'>\n",
            "<class 'numpy.float64'>\n",
            "<class 'str'>\n",
            "<class 'numpy.int64'>\n",
            "<class 'str'>\n"
          ],
          "name": "stdout"
        }
      ]
    },
    {
      "cell_type": "code",
      "metadata": {
        "colab": {
          "base_uri": "https://localhost:8080/",
          "height": 413
        },
        "id": "p03mejFDEnaL",
        "outputId": "1a4f9b64-2384-4eda-b7ba-8b9ddd4fcbd6"
      },
      "source": [
        "df.head()"
      ],
      "execution_count": 80,
      "outputs": [
        {
          "output_type": "execute_result",
          "data": {
            "text/html": [
              "<div>\n",
              "<style scoped>\n",
              "    .dataframe tbody tr th:only-of-type {\n",
              "        vertical-align: middle;\n",
              "    }\n",
              "\n",
              "    .dataframe tbody tr th {\n",
              "        vertical-align: top;\n",
              "    }\n",
              "\n",
              "    .dataframe thead th {\n",
              "        text-align: right;\n",
              "    }\n",
              "</style>\n",
              "<table border=\"1\" class=\"dataframe\">\n",
              "  <thead>\n",
              "    <tr style=\"text-align: right;\">\n",
              "      <th></th>\n",
              "      <th>country</th>\n",
              "      <th>year</th>\n",
              "      <th>sex</th>\n",
              "      <th>age</th>\n",
              "      <th>suicides_no</th>\n",
              "      <th>population</th>\n",
              "      <th>suicides/100k pop</th>\n",
              "      <th>country-year</th>\n",
              "      <th>HDI for year</th>\n",
              "      <th>gdp_for_year ($)</th>\n",
              "      <th>gdp_per_capita ($)</th>\n",
              "      <th>generation</th>\n",
              "    </tr>\n",
              "  </thead>\n",
              "  <tbody>\n",
              "    <tr>\n",
              "      <th>0</th>\n",
              "      <td>Albania</td>\n",
              "      <td>1987</td>\n",
              "      <td>male</td>\n",
              "      <td>15-24 years</td>\n",
              "      <td>21</td>\n",
              "      <td>312900</td>\n",
              "      <td>6.71</td>\n",
              "      <td>Albania1987</td>\n",
              "      <td>NaN</td>\n",
              "      <td>2,156,624,900</td>\n",
              "      <td>796</td>\n",
              "      <td>Generation X</td>\n",
              "    </tr>\n",
              "    <tr>\n",
              "      <th>1</th>\n",
              "      <td>Albania</td>\n",
              "      <td>1987</td>\n",
              "      <td>male</td>\n",
              "      <td>35-54 years</td>\n",
              "      <td>16</td>\n",
              "      <td>308000</td>\n",
              "      <td>5.19</td>\n",
              "      <td>Albania1987</td>\n",
              "      <td>NaN</td>\n",
              "      <td>2,156,624,900</td>\n",
              "      <td>796</td>\n",
              "      <td>Silent</td>\n",
              "    </tr>\n",
              "    <tr>\n",
              "      <th>2</th>\n",
              "      <td>Albania</td>\n",
              "      <td>1987</td>\n",
              "      <td>female</td>\n",
              "      <td>15-24 years</td>\n",
              "      <td>14</td>\n",
              "      <td>289700</td>\n",
              "      <td>4.83</td>\n",
              "      <td>Albania1987</td>\n",
              "      <td>NaN</td>\n",
              "      <td>2,156,624,900</td>\n",
              "      <td>796</td>\n",
              "      <td>Generation X</td>\n",
              "    </tr>\n",
              "    <tr>\n",
              "      <th>3</th>\n",
              "      <td>Albania</td>\n",
              "      <td>1987</td>\n",
              "      <td>male</td>\n",
              "      <td>75+ years</td>\n",
              "      <td>1</td>\n",
              "      <td>21800</td>\n",
              "      <td>4.59</td>\n",
              "      <td>Albania1987</td>\n",
              "      <td>NaN</td>\n",
              "      <td>2,156,624,900</td>\n",
              "      <td>796</td>\n",
              "      <td>G.I. Generation</td>\n",
              "    </tr>\n",
              "    <tr>\n",
              "      <th>4</th>\n",
              "      <td>Albania</td>\n",
              "      <td>1987</td>\n",
              "      <td>male</td>\n",
              "      <td>25-34 years</td>\n",
              "      <td>9</td>\n",
              "      <td>274300</td>\n",
              "      <td>3.28</td>\n",
              "      <td>Albania1987</td>\n",
              "      <td>NaN</td>\n",
              "      <td>2,156,624,900</td>\n",
              "      <td>796</td>\n",
              "      <td>Boomers</td>\n",
              "    </tr>\n",
              "  </tbody>\n",
              "</table>\n",
              "</div>"
            ],
            "text/plain": [
              "   country  year  ... gdp_per_capita ($)       generation\n",
              "0  Albania  1987  ...                796     Generation X\n",
              "1  Albania  1987  ...                796           Silent\n",
              "2  Albania  1987  ...                796     Generation X\n",
              "3  Albania  1987  ...                796  G.I. Generation\n",
              "4  Albania  1987  ...                796          Boomers\n",
              "\n",
              "[5 rows x 12 columns]"
            ]
          },
          "metadata": {
            "tags": []
          },
          "execution_count": 80
        }
      ]
    },
    {
      "cell_type": "code",
      "metadata": {
        "colab": {
          "base_uri": "https://localhost:8080/",
          "height": 404
        },
        "id": "s7iaxBJtRv09",
        "outputId": "019da146-2e0d-4a51-fe9f-b87367c45e1f"
      },
      "source": [
        "plt.boxplot(df['HDI for year'])\n"
      ],
      "execution_count": 90,
      "outputs": [
        {
          "output_type": "execute_result",
          "data": {
            "text/plain": [
              "{'boxes': [<matplotlib.lines.Line2D at 0x7f7373487990>],\n",
              " 'caps': [<matplotlib.lines.Line2D at 0x7f7373415e90>,\n",
              "  <matplotlib.lines.Line2D at 0x7f737341c410>],\n",
              " 'fliers': [<matplotlib.lines.Line2D at 0x7f737341ced0>],\n",
              " 'means': [],\n",
              " 'medians': [<matplotlib.lines.Line2D at 0x7f737341c990>],\n",
              " 'whiskers': [<matplotlib.lines.Line2D at 0x7f7373415410>,\n",
              "  <matplotlib.lines.Line2D at 0x7f7373415950>]}"
            ]
          },
          "metadata": {
            "tags": []
          },
          "execution_count": 90
        },
        {
          "output_type": "display_data",
          "data": {
            "image/png": "[encoded data removed]",
            "text/plain": [
              "<Figure size 432x288 with 1 Axes>"
            ]
          },
          "metadata": {
            "tags": [],
            "needs_background": "light"
          }
        }
      ]
    },
    {
      "cell_type": "code",
      "metadata": {
        "colab": {
          "base_uri": "https://localhost:8080/",
          "height": 404
        },
        "id": "qNpFUgf4T9OF",
        "outputId": "1e4eb2eb-0e21-4ec1-a69e-032585873d20"
      },
      "source": [
        "plt.boxplot(df['suicides/100k pop'])"
      ],
      "execution_count": 89,
      "outputs": [
        {
          "output_type": "execute_result",
          "data": {
            "text/plain": [
              "{'boxes': [<matplotlib.lines.Line2D at 0x7f737347ba10>],\n",
              " 'caps': [<matplotlib.lines.Line2D at 0x7f7373484d10>,\n",
              "  <matplotlib.lines.Line2D at 0x7f737348a150>],\n",
              " 'fliers': [<matplotlib.lines.Line2D at 0x7f737348ac90>],\n",
              " 'means': [],\n",
              " 'medians': [<matplotlib.lines.Line2D at 0x7f737348a090>],\n",
              " 'whiskers': [<matplotlib.lines.Line2D at 0x7f73734848d0>,\n",
              "  <matplotlib.lines.Line2D at 0x7f7373484050>]}"
            ]
          },
          "metadata": {
            "tags": []
          },
          "execution_count": 89
        },
        {
          "output_type": "display_data",
          "data": {
            "image/png": "[encoded data removed]",
            "text/plain": [
              "<Figure size 432x288 with 1 Axes>"
            ]
          },
          "metadata": {
            "tags": [],
            "needs_background": "light"
          }
        }
      ]
    },
    {
      "cell_type": "code",
      "metadata": {
        "colab": {
          "base_uri": "https://localhost:8080/",
          "height": 352
        },
        "id": "WEMuVaTtSEKj",
        "outputId": "66219088-55fd-43eb-b1d4-83548eab2043"
      },
      "source": [
        "plt.hist(df['suicides/100k pop'])"
      ],
      "execution_count": 87,
      "outputs": [
        {
          "output_type": "execute_result",
          "data": {
            "text/plain": [
              "(array([2.2848e+04, 3.3060e+03, 8.5900e+02, 5.0600e+02, 1.9400e+02,\n",
              "        7.3000e+01, 1.6000e+01, 1.3000e+01, 3.0000e+00, 2.0000e+00]),\n",
              " array([  0.   ,  22.497,  44.994,  67.491,  89.988, 112.485, 134.982,\n",
              "        157.479, 179.976, 202.473, 224.97 ]),\n",
              " <a list of 10 Patch objects>)"
            ]
          },
          "metadata": {
            "tags": []
          },
          "execution_count": 87
        },
        {
          "output_type": "display_data",
          "data": {
            "image/png": "[encoded data removed]",
            "text/plain": [
              "<Figure size 432x288 with 1 Axes>"
            ]
          },
          "metadata": {
            "tags": [],
            "needs_background": "light"
          }
        }
      ]
    },
    {
      "cell_type": "code",
      "metadata": {
        "colab": {
          "base_uri": "https://localhost:8080/",
          "height": 352
        },
        "id": "ItHJTg32S59x",
        "outputId": "b4ada814-7182-4ca7-a0ce-db752bde444e"
      },
      "source": [
        "plt.hist(df['HDI for year'])"
      ],
      "execution_count": 85,
      "outputs": [
        {
          "output_type": "execute_result",
          "data": {
            "text/plain": [
              "(array([  36.,  108.,  288.,  756.,  960., 1416., 1332., 1308., 1332.,\n",
              "         828.]),\n",
              " array([0.483 , 0.5291, 0.5752, 0.6213, 0.6674, 0.7135, 0.7596, 0.8057,\n",
              "        0.8518, 0.8979, 0.944 ]),\n",
              " <a list of 10 Patch objects>)"
            ]
          },
          "metadata": {
            "tags": []
          },
          "execution_count": 85
        },
        {
          "output_type": "display_data",
          "data": {
            "image/png": "[encoded data removed]",
            "text/plain": [
              "<Figure size 432x288 with 1 Axes>"
            ]
          },
          "metadata": {
            "tags": [],
            "needs_background": "light"
          }
        }
      ]
    },
    {
      "cell_type": "code",
      "metadata": {
        "colab": {
          "base_uri": "https://localhost:8080/",
          "height": 872
        },
        "id": "vg0-7SWoTqcY",
        "outputId": "d298e0ce-595b-4499-d854-9c28646e3947"
      },
      "source": [
        "plt.hist(df['suicides/100k pop'],bins=100)"
      ],
      "execution_count": 91,
      "outputs": [
        {
          "output_type": "execute_result",
          "data": {
            "text/plain": [
              "(array([9.402e+03, 2.908e+03, 2.360e+03, 1.943e+03, 1.562e+03, 1.259e+03,\n",
              "        1.078e+03, 8.780e+02, 7.730e+02, 6.850e+02, 6.260e+02, 5.430e+02,\n",
              "        4.320e+02, 3.540e+02, 3.000e+02, 2.670e+02, 2.330e+02, 2.050e+02,\n",
              "        1.900e+02, 1.560e+02, 1.140e+02, 1.220e+02, 9.300e+01, 1.030e+02,\n",
              "        9.000e+01, 7.200e+01, 8.400e+01, 7.400e+01, 5.100e+01, 5.600e+01,\n",
              "        5.800e+01, 5.600e+01, 5.600e+01, 5.100e+01, 5.200e+01, 5.100e+01,\n",
              "        4.700e+01, 5.700e+01, 4.400e+01, 3.400e+01, 3.000e+01, 1.800e+01,\n",
              "        2.300e+01, 3.000e+01, 2.000e+01, 1.900e+01, 1.900e+01, 1.600e+01,\n",
              "        1.400e+01, 5.000e+00, 9.000e+00, 1.200e+01, 9.000e+00, 9.000e+00,\n",
              "        6.000e+00, 1.400e+01, 0.000e+00, 4.000e+00, 6.000e+00, 4.000e+00,\n",
              "        1.000e+00, 1.000e+00, 1.000e+00, 1.000e+00, 6.000e+00, 1.000e+00,\n",
              "        1.000e+00, 2.000e+00, 2.000e+00, 0.000e+00, 1.000e+00, 1.000e+00,\n",
              "        1.000e+00, 1.000e+00, 0.000e+00, 1.000e+00, 2.000e+00, 1.000e+00,\n",
              "        5.000e+00, 0.000e+00, 0.000e+00, 1.000e+00, 1.000e+00, 1.000e+00,\n",
              "        0.000e+00, 0.000e+00, 0.000e+00, 0.000e+00, 0.000e+00, 0.000e+00,\n",
              "        0.000e+00, 1.000e+00, 0.000e+00, 0.000e+00, 0.000e+00, 0.000e+00,\n",
              "        0.000e+00, 0.000e+00, 0.000e+00, 1.000e+00]),\n",
              " array([  0.    ,   2.2497,   4.4994,   6.7491,   8.9988,  11.2485,\n",
              "         13.4982,  15.7479,  17.9976,  20.2473,  22.497 ,  24.7467,\n",
              "         26.9964,  29.2461,  31.4958,  33.7455,  35.9952,  38.2449,\n",
              "         40.4946,  42.7443,  44.994 ,  47.2437,  49.4934,  51.7431,\n",
              "         53.9928,  56.2425,  58.4922,  60.7419,  62.9916,  65.2413,\n",
              "         67.491 ,  69.7407,  71.9904,  74.2401,  76.4898,  78.7395,\n",
              "         80.9892,  83.2389,  85.4886,  87.7383,  89.988 ,  92.2377,\n",
              "         94.4874,  96.7371,  98.9868, 101.2365, 103.4862, 105.7359,\n",
              "        107.9856, 110.2353, 112.485 , 114.7347, 116.9844, 119.2341,\n",
              "        121.4838, 123.7335, 125.9832, 128.2329, 130.4826, 132.7323,\n",
              "        134.982 , 137.2317, 139.4814, 141.7311, 143.9808, 146.2305,\n",
              "        148.4802, 150.7299, 152.9796, 155.2293, 157.479 , 159.7287,\n",
              "        161.9784, 164.2281, 166.4778, 168.7275, 170.9772, 173.2269,\n",
              "        175.4766, 177.7263, 179.976 , 182.2257, 184.4754, 186.7251,\n",
              "        188.9748, 191.2245, 193.4742, 195.7239, 197.9736, 200.2233,\n",
              "        202.473 , 204.7227, 206.9724, 209.2221, 211.4718, 213.7215,\n",
              "        215.9712, 218.2209, 220.4706, 222.7203, 224.97  ]),\n",
              " <a list of 100 Patch objects>)"
            ]
          },
          "metadata": {
            "tags": []
          },
          "execution_count": 91
        },
        {
          "output_type": "display_data",
          "data": {
            "image/png": "[encoded data removed]",
            "text/plain": [
              "<Figure size 432x288 with 1 Axes>"
            ]
          },
          "metadata": {
            "tags": [],
            "needs_background": "light"
          }
        }
      ]
    },
    {
      "cell_type": "code",
      "metadata": {
        "colab": {
          "base_uri": "https://localhost:8080/",
          "height": 317
        },
        "id": "e2jyDzexXoM8",
        "outputId": "0542a216-99d8-44dc-a40d-edbe196f7739"
      },
      "source": [
        "plt.hist(df['suicides/100k pop'],bins=2)"
      ],
      "execution_count": 92,
      "outputs": [
        {
          "output_type": "execute_result",
          "data": {
            "text/plain": [
              "(array([27713.,   107.]),\n",
              " array([  0.   , 112.485, 224.97 ]),\n",
              " <a list of 2 Patch objects>)"
            ]
          },
          "metadata": {
            "tags": []
          },
          "execution_count": 92
        },
        {
          "output_type": "display_data",
          "data": {
            "image/png": "[encoded data removed]",
            "text/plain": [
              "<Figure size 432x288 with 1 Axes>"
            ]
          },
          "metadata": {
            "tags": [],
            "needs_background": "light"
          }
        }
      ]
    },
    {
      "cell_type": "code",
      "metadata": {
        "colab": {
          "base_uri": "https://localhost:8080/",
          "height": 716
        },
        "id": "9gdlLT2dX2da",
        "outputId": "116b6c81-83fd-423d-84a2-02435793ab8d"
      },
      "source": [
        "plt.hist(df['HDI for year'],bins=100)"
      ],
      "execution_count": 93,
      "outputs": [
        {
          "output_type": "execute_result",
          "data": {
            "text/plain": [
              "(array([ 12.,   0.,   0.,   0.,   0.,   0.,  12.,   0.,  12.,   0.,   0.,\n",
              "          0.,  24.,   0.,  12.,   0.,   0.,  24.,  12.,  36.,  36.,  12.,\n",
              "          0.,  12.,  36.,   0.,  48.,  48.,  36.,  60.,  96.,  72.,  84.,\n",
              "         36.,  36., 108.,  84.,  84.,  48., 108., 132.,  84.,  72., 120.,\n",
              "         60.,  96.,  60.,  84.,  60., 192., 168., 120., 168., 156.,  96.,\n",
              "        168.,  72., 156., 156., 156., 144., 108., 180., 168., 168., 168.,\n",
              "         84., 132.,  72., 108.,  60.,  96., 228., 156., 156., 180.,  84.,\n",
              "        120.,  72., 156., 108., 120.,  96., 156., 108., 108., 204., 168.,\n",
              "        168.,  96.,  96., 156., 156., 120.,  60.,  72.,  60.,  36.,  12.,\n",
              "         60.]),\n",
              " array([0.483  , 0.48761, 0.49222, 0.49683, 0.50144, 0.50605, 0.51066,\n",
              "        0.51527, 0.51988, 0.52449, 0.5291 , 0.53371, 0.53832, 0.54293,\n",
              "        0.54754, 0.55215, 0.55676, 0.56137, 0.56598, 0.57059, 0.5752 ,\n",
              "        0.57981, 0.58442, 0.58903, 0.59364, 0.59825, 0.60286, 0.60747,\n",
              "        0.61208, 0.61669, 0.6213 , 0.62591, 0.63052, 0.63513, 0.63974,\n",
              "        0.64435, 0.64896, 0.65357, 0.65818, 0.66279, 0.6674 , 0.67201,\n",
              "        0.67662, 0.68123, 0.68584, 0.69045, 0.69506, 0.69967, 0.70428,\n",
              "        0.70889, 0.7135 , 0.71811, 0.72272, 0.72733, 0.73194, 0.73655,\n",
              "        0.74116, 0.74577, 0.75038, 0.75499, 0.7596 , 0.76421, 0.76882,\n",
              "        0.77343, 0.77804, 0.78265, 0.78726, 0.79187, 0.79648, 0.80109,\n",
              "        0.8057 , 0.81031, 0.81492, 0.81953, 0.82414, 0.82875, 0.83336,\n",
              "        0.83797, 0.84258, 0.84719, 0.8518 , 0.85641, 0.86102, 0.86563,\n",
              "        0.87024, 0.87485, 0.87946, 0.88407, 0.88868, 0.89329, 0.8979 ,\n",
              "        0.90251, 0.90712, 0.91173, 0.91634, 0.92095, 0.92556, 0.93017,\n",
              "        0.93478, 0.93939, 0.944  ]),\n",
              " <a list of 100 Patch objects>)"
            ]
          },
          "metadata": {
            "tags": []
          },
          "execution_count": 93
        },
        {
          "output_type": "display_data",
          "data": {
            "image/png": "[encoded data removed]",
            "text/plain": [
              "<Figure size 432x288 with 1 Axes>"
            ]
          },
          "metadata": {
            "tags": [],
            "needs_background": "light"
          }
        }
      ]
    },
    {
      "cell_type": "code",
      "metadata": {
        "colab": {
          "base_uri": "https://localhost:8080/",
          "height": 317
        },
        "id": "uGL_pvM_X7uC",
        "outputId": "85bc6b06-e4a0-48d3-f5f8-c6f0ae4c92bd"
      },
      "source": [
        "plt.hist(df['HDI for year'],bins=2)"
      ],
      "execution_count": 94,
      "outputs": [
        {
          "output_type": "execute_result",
          "data": {
            "text/plain": [
              "(array([2148., 6216.]),\n",
              " array([0.483 , 0.7135, 0.944 ]),\n",
              " <a list of 2 Patch objects>)"
            ]
          },
          "metadata": {
            "tags": []
          },
          "execution_count": 94
        },
        {
          "output_type": "display_data",
          "data": {
            "image/png": "[encoded data removed]",
            "text/plain": [
              "<Figure size 432x288 with 1 Axes>"
            ]
          },
          "metadata": {
            "tags": [],
            "needs_background": "light"
          }
        }
      ]
    },
    {
      "cell_type": "markdown",
      "metadata": {
        "id": "AtbNi8zoYBRL"
      },
      "source": [
        "#End of Task"
      ]
    }
  ]
}